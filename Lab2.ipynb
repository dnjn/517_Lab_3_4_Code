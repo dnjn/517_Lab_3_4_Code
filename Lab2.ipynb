{
  "nbformat": 4,
  "nbformat_minor": 0,
  "metadata": {
    "colab": {
      "name": "Lab2.ipynb",
      "provenance": [],
      "collapsed_sections": []
    },
    "kernelspec": {
      "name": "python3",
      "display_name": "Python 3"
    },
    "language_info": {
      "name": "python"
    }
  },
  "cells": [
    {
      "cell_type": "markdown",
      "source": [
        "Assumptions: not a true brain neuron, bunch of cylinders, squid channels"
      ],
      "metadata": {
        "id": "jB3hP2gfERIj"
      }
    },
    {
      "cell_type": "code",
      "execution_count": null,
      "metadata": {
        "colab": {
          "base_uri": "https://localhost:8080/"
        },
        "id": "6zB6qQrvhi-U",
        "outputId": "fdde47d6-4207-4ffa-9c3b-af7bcbab7d17"
      },
      "outputs": [
        {
          "output_type": "stream",
          "name": "stdout",
          "text": [
            "Collecting neuron\n",
            "  Downloading NEURON-8.0.2-cp37-cp37m-manylinux_2_5_x86_64.manylinux1_x86_64.whl (12.6 MB)\n",
            "\u001b[K     |████████████████████████████████| 12.6 MB 3.9 MB/s \n",
            "\u001b[?25hRequirement already satisfied: numpy>=1.9.3 in /usr/local/lib/python3.7/dist-packages (from neuron) (1.19.5)\n",
            "Installing collected packages: neuron\n",
            "Successfully installed neuron-8.0.2\n"
          ]
        }
      ],
      "source": [
        "!pip install neuron"
      ]
    },
    {
      "cell_type": "code",
      "source": [
        "from neuron import h\n",
        "from neuron.units import ms, mV, um\n",
        "import matplotlib.pyplot as plt\n",
        "import math\n",
        "h.load_file(\"stdrun.hoc\")"
      ],
      "metadata": {
        "colab": {
          "base_uri": "https://localhost:8080/"
        },
        "id": "wS1_i6cwhq3j",
        "outputId": "44d40dd0-2a58-4cd4-94ca-fdb3b55bb271"
      },
      "execution_count": null,
      "outputs": [
        {
          "output_type": "execute_result",
          "data": {
            "text/plain": [
              "1.0"
            ]
          },
          "metadata": {},
          "execution_count": 2
        }
      ]
    },
    {
      "cell_type": "code",
      "source": [
        "axon1 = h.Section(name='axon')\n",
        "axon2 = h.Section(name='axon')\n",
        "\n",
        "axon1.nseg = 1000\n",
        "axon1.diam = 10 * um\n",
        "axon1.L = 5e3 * um\n",
        "axon1.Ra = 200\n",
        "\n",
        "axon2.nseg = 1000\n",
        "axon2.diam = 20 * um\n",
        "axon2.L = 5e3 * um\n",
        "axon2.Ra = 200\n",
        "\n",
        "axon1.insert(h.hh)\n",
        "axon2.insert(h.hh)"
      ],
      "metadata": {
        "colab": {
          "base_uri": "https://localhost:8080/"
        },
        "id": "SZeidSBY9pSm",
        "outputId": "cdbeb67c-5c44-45f4-9201-6c3817d6aa92"
      },
      "execution_count": null,
      "outputs": [
        {
          "output_type": "execute_result",
          "data": {
            "text/plain": [
              "axon"
            ]
          },
          "metadata": {},
          "execution_count": 3
        }
      ]
    },
    {
      "cell_type": "code",
      "source": [
        "lambda_1 = math.sqrt(5e-4*40000/400)\n",
        "lambda_2 = math.sqrt(10e-4*40000/400)\n",
        "# low lambda = lower speed\n",
        "print(lambda_1)\n",
        "print(lambda_2)"
      ],
      "metadata": {
        "id": "u1S882K79M4q",
        "colab": {
          "base_uri": "https://localhost:8080/"
        },
        "outputId": "70510971-b6b7-485a-9d73-4d4d5e65eae7"
      },
      "execution_count": null,
      "outputs": [
        {
          "output_type": "stream",
          "name": "stdout",
          "text": [
            "0.22360679774997896\n",
            "0.31622776601683794\n"
          ]
        }
      ]
    },
    {
      "cell_type": "code",
      "source": [
        "iclamp = h.IClamp(axon1(0))\n",
        "iclamp.delay = 0 * ms\n",
        "iclamp.dur = 0.1 * ms\n",
        "iclamp.amp = 10000\n",
        "\n",
        "iclamp2 = h.IClamp(axon2(0))\n",
        "iclamp2.delay = 0 * ms\n",
        "iclamp2.dur = 0.1 * ms\n",
        "iclamp2.amp = 33"
      ],
      "metadata": {
        "id": "r1izUUiH_kXQ"
      },
      "execution_count": null,
      "outputs": []
    },
    {
      "cell_type": "code",
      "source": [
        "v11 = h.Vector().record(axon1(0.5)._ref_v)             # Membrane potential vector\n",
        "v12 = h.Vector().record(axon1(0.9)._ref_v)             # Membrane potential vector\n",
        "v21 = h.Vector().record(axon2(0.5)._ref_v)             # Membrane potential vector\n",
        "v22 = h.Vector().record(axon2(0.9)._ref_v)             # Membrane potential vector\n",
        "t = h.Vector().record(h._ref_t)                        # Time stamp vector"
      ],
      "metadata": {
        "id": "_C4ICeT-6Pp0"
      },
      "execution_count": null,
      "outputs": []
    },
    {
      "cell_type": "code",
      "source": [
        "h.finitialize(-65 * mV)\n",
        "h.continuerun(10 * ms)\n",
        "\n",
        "plt.plot(t,v21)\n",
        "#plt.plot(t,v12)\n",
        "#plt.legend([\"0.5\",\"0.9\"])\n",
        "plt.xlabel(\"Time (ms)\")\n",
        "plt.ylabel(\"V_m (mV)\")\n",
        "plt.show()"
      ],
      "metadata": {
        "colab": {
          "base_uri": "https://localhost:8080/",
          "height": 279
        },
        "id": "MaT5G04h6Umu",
        "outputId": "c61ddd37-23a8-4423-a9e2-4ad8311b659d"
      },
      "execution_count": null,
      "outputs": [
        {
          "output_type": "display_data",
          "data": {
            "image/png": "[encoded data removed]",
            "text/plain": [
              "<Figure size 432x288 with 1 Axes>"
            ]
          },
          "metadata": {
            "needs_background": "light"
          }
        }
      ]
    },
    {
      "cell_type": "code",
      "source": [
        "plt.plot(t,v21)\n",
        "plt.plot(t,v22)\n",
        "plt.legend([\"0.5\",\"0.9\"])\n",
        "plt.xlabel(\"Time (ms)\")\n",
        "plt.ylabel(\"V_m (mV)\")\n",
        "plt.show()"
      ],
      "metadata": {
        "colab": {
          "base_uri": "https://localhost:8080/",
          "height": 279
        },
        "id": "V_JqQxorwUEI",
        "outputId": "e0096714-9fa6-4e13-e33a-3cc7edf950fa"
      },
      "execution_count": null,
      "outputs": [
        {
          "output_type": "display_data",
          "data": {
            "image/png": "[encoded data removed]",
            "text/plain": [
              "<Figure size 432x288 with 1 Axes>"
            ]
          },
          "metadata": {
            "needs_background": "light"
          }
        }
      ]
    },
    {
      "cell_type": "markdown",
      "source": [
        "### Part 3\n",
        "\n",
        "---\n",
        "\n"
      ],
      "metadata": {
        "id": "dszyAU7RdXlS"
      }
    },
    {
      "cell_type": "code",
      "source": [
        "soma = h.Section(name='soma')\n",
        "myelin_axon = h.Section(name='axon')\n",
        "non_myelin_axon = h.Section(name='axon')\n",
        "dend = h.Section(name='dendrite')\n",
        "axon_hillock1 = h.Section(name='axon')\n",
        "axon_hillock2 = h.Section(name='axon')\n",
        "axon_hillock3 = h.Section(name='axon')\n",
        "axon_hillock4 = h.Section(name='axon')\n",
        "axon_hillock5 = h.Section(name='axon')\n",
        "axon_hillock6 = h.Section(name='axon')\n",
        "axon_hillock7 = h.Section(name='axon')\n",
        "axon_hillock8 = h.Section(name='axon')\n",
        "axon_hillock9 = h.Section(name='axon')\n",
        "\n",
        "soma.nseg = 100\n",
        "soma.diam = 21 * um\n",
        "soma.L = 24 * um\n",
        "\n",
        "myelin_axon.nseg = 100\n",
        "myelin_axon.diam = 1 * um\n",
        "myelin_axon.L = 300 * um\n",
        "myelin_axon.cm = 0.04\n",
        "\n",
        "non_myelin_axon.nseg = 100\n",
        "non_myelin_axon.diam = 1 * um\n",
        "non_myelin_axon.L = 16 * um\n",
        "non_myelin_axon.insert(h.hh)\n",
        "\n",
        "dend.nseg = 222\n",
        "dend.diam = 12 * um\n",
        "dend.L = 50 * um\n",
        "\n",
        "axon_hillock1.nseg = 9\n",
        "axon_hillock1.diam = 21 * um\n",
        "axon_hillock1.L = 1.78 * um\n",
        "\n",
        "axon_hillock2.nseg = 9\n",
        "axon_hillock2.diam = 18.5 * um\n",
        "axon_hillock2.L = 1.78 * um\n",
        "\n",
        "axon_hillock3.nseg = 9\n",
        "axon_hillock3.diam = 16 * um\n",
        "axon_hillock3.L = 1.78 * um\n",
        "\n",
        "axon_hillock4.nseg = 9\n",
        "axon_hillock4.diam = 13.5 * um\n",
        "axon_hillock4.L = 1.78 * um\n",
        "\n",
        "axon_hillock5.nseg = 9\n",
        "axon_hillock5.diam = 11 * um\n",
        "axon_hillock5.L = 1.78 * um\n",
        "\n",
        "axon_hillock6.nseg = 9\n",
        "axon_hillock6.diam = 8.5 * um\n",
        "axon_hillock6.L = 1.78 * um\n",
        "\n",
        "axon_hillock7.nseg = 9\n",
        "axon_hillock7.diam = 6 * um\n",
        "axon_hillock7.L = 1.78 * um\n",
        "\n",
        "axon_hillock8.nseg = 9\n",
        "axon_hillock8.diam = 3.5 * um\n",
        "axon_hillock8.L = 1.78 * um\n",
        "\n",
        "axon_hillock9.nseg = 9\n",
        "axon_hillock9.diam = 1 * um\n",
        "axon_hillock9.L = 1.78 * um\n",
        "\n",
        "soma.insert(h.hh)\n",
        "dend.insert(h.hh)\n",
        "axon_hillock1.insert(h.hh)\n",
        "axon_hillock2.insert(h.hh)\n",
        "axon_hillock3.insert(h.hh)\n",
        "axon_hillock4.insert(h.hh)\n",
        "axon_hillock5.insert(h.hh)\n",
        "axon_hillock6.insert(h.hh)\n",
        "axon_hillock7.insert(h.hh)\n",
        "axon_hillock8.insert(h.hh)\n",
        "axon_hillock9.insert(h.hh)\n",
        "\n",
        "soma.insert(h.pas)\n",
        "myelin_axon.insert(h.pas)\n",
        "non_myelin_axon.insert(h.pas)\n",
        "dend.insert(h.pas)\n",
        "axon_hillock1.insert(h.pas)\n",
        "axon_hillock2.insert(h.pas)\n",
        "axon_hillock3.insert(h.pas)\n",
        "axon_hillock4.insert(h.pas)\n",
        "axon_hillock5.insert(h.pas)\n",
        "axon_hillock6.insert(h.pas)\n",
        "axon_hillock7.insert(h.pas)\n",
        "axon_hillock8.insert(h.pas)\n",
        "axon_hillock9.insert(h.pas)\n",
        "\n",
        "soma.insert(h.extracellular)\n",
        "myelin_axon.insert(h.extracellular)\n",
        "non_myelin_axon.insert(h.extracellular)\n",
        "dend.insert(h.extracellular)\n",
        "axon_hillock1.insert(h.extracellular)\n",
        "axon_hillock2.insert(h.extracellular)\n",
        "axon_hillock3.insert(h.extracellular)\n",
        "axon_hillock4.insert(h.extracellular)\n",
        "axon_hillock5.insert(h.extracellular)\n",
        "axon_hillock6.insert(h.extracellular)\n",
        "axon_hillock7.insert(h.extracellular)\n",
        "axon_hillock8.insert(h.extracellular)\n",
        "axon_hillock9.insert(h.extracellular)"
      ],
      "metadata": {
        "id": "V6iDsFTCdf0I",
        "colab": {
          "base_uri": "https://localhost:8080/"
        },
        "outputId": "d2321e01-1885-4fc4-e7a8-92a2fd100c30"
      },
      "execution_count": null,
      "outputs": [
        {
          "output_type": "execute_result",
          "data": {
            "text/plain": [
              "axon"
            ]
          },
          "metadata": {},
          "execution_count": 4
        }
      ]
    },
    {
      "cell_type": "code",
      "source": [
        "axon_hillock9.connect(axon_hillock8(1))\n",
        "axon_hillock8.connect(axon_hillock7(1))\n",
        "axon_hillock7.connect(axon_hillock6(1))\n",
        "axon_hillock6.connect(axon_hillock5(1))\n",
        "axon_hillock5.connect(axon_hillock4(1))\n",
        "axon_hillock4.connect(axon_hillock3(1))\n",
        "axon_hillock3.connect(axon_hillock2(1))\n",
        "axon_hillock2.connect(axon_hillock1(1))\n",
        "axon_hillock1.connect(soma(1))\n",
        "soma.connect(dend(1))\n",
        "non_myelin_axon.connect(axon_hillock9(1))\n",
        "myelin_axon.connect(non_myelin_axon(1))"
      ],
      "metadata": {
        "colab": {
          "base_uri": "https://localhost:8080/"
        },
        "id": "KvLCb45Q7Z4p",
        "outputId": "05feca0b-db91-4474-88d4-318cacb5aaf7"
      },
      "execution_count": null,
      "outputs": [
        {
          "output_type": "execute_result",
          "data": {
            "text/plain": [
              "axon"
            ]
          },
          "metadata": {},
          "execution_count": 5
        }
      ]
    },
    {
      "cell_type": "code",
      "source": [
        "iclamp = h.IClamp(dend(0))\n",
        "iclamp.delay = 2 * ms\n",
        "iclamp.dur = 0.1 * ms\n",
        "iclamp.amp = 19"
      ],
      "metadata": {
        "id": "wxi2xZDF6ChO"
      },
      "execution_count": null,
      "outputs": []
    },
    {
      "cell_type": "code",
      "source": [
        "v_soma = h.Vector().record(soma(0.5)._ref_v)\n",
        "i_dend = h.Vector().record(dend(0.5)._ref_i_membrane)\n",
        "i_soma = h.Vector().record(soma(0.5)._ref_i_membrane)\n",
        "i_non_myelin_axon = h.Vector().record(non_myelin_axon(0.5)._ref_i_membrane)\n",
        "i_myelin_axon = h.Vector().record(myelin_axon(0.5)._ref_i_membrane)\n",
        "t = h.Vector().record(h._ref_t)"
      ],
      "metadata": {
        "id": "Kh1a2aro6FBJ"
      },
      "execution_count": null,
      "outputs": []
    },
    {
      "cell_type": "code",
      "source": [
        "h.finitialize(-65 * mV)\n",
        "h.continuerun(10 * ms)\n",
        "\n",
        "i_soma = i_soma*3.14*pow(10.5e-4,2)\n",
        "i_non_myelin_axon = i_non_myelin_axon*3.14*pow(0.5e-4,2)\n",
        "\n",
        "plt.plot(t,i_soma)\n",
        "plt.plot(t,i_non_myelin_axon)\n",
        "plt.legend([\"soma\",\"non-myelinated axon\"])\n",
        "plt.xlabel(\"Time (ms)\")\n",
        "plt.ylabel(\"I_m (mA)\")\n",
        "plt.show()"
      ],
      "metadata": {
        "colab": {
          "base_uri": "https://localhost:8080/",
          "height": 290
        },
        "id": "R8hnvyF16HOj",
        "outputId": "01f10a4e-b55c-4587-8e39-18d2746bd300"
      },
      "execution_count": null,
      "outputs": [
        {
          "output_type": "display_data",
          "data": {
            "image/png": "[encoded data removed]",
            "text/plain": [
              "<Figure size 432x288 with 1 Axes>"
            ]
          },
          "metadata": {
            "needs_background": "light"
          }
        }
      ]
    },
    {
      "cell_type": "code",
      "source": [
        "h.finitialize(-65 * mV)\n",
        "h.continuerun(10 * ms)\n",
        "\n",
        "i_soma = i_soma*3.14*pow(10.5e-4,2)\n",
        "i_non_myelin_axon = i_non_myelin_axon*3.14*pow(0.5e-4,2)\n",
        "i_dend = i_dend*3.14*pow(6e-4,2)\n",
        "i_myelin_axon = i_myelin_axon*3.14*pow(0.5e-4,2)\n",
        "\n",
        "plt.plot(t,i_soma)\n",
        "plt.plot(t,i_non_myelin_axon)\n",
        "plt.plot(t,i_dend)\n",
        "plt.plot(t,i_myelin_axon)\n",
        "plt.legend([\"soma\",\"non-myelinated axon\",\"dendrite\",\"myelinated axon\"])\n",
        "plt.xlabel(\"Time (ms)\")\n",
        "plt.ylabel(\"I_m (mA)\")\n",
        "plt.show()"
      ],
      "metadata": {
        "id": "hoBr-FaXSYHW",
        "colab": {
          "base_uri": "https://localhost:8080/",
          "height": 290
        },
        "outputId": "716a9fef-3400-4b7b-b0fd-0a0012c71566"
      },
      "execution_count": null,
      "outputs": [
        {
          "output_type": "display_data",
          "data": {
            "image/png": "[encoded data removed]",
            "text/plain": [
              "<Figure size 432x288 with 1 Axes>"
            ]
          },
          "metadata": {
            "needs_background": "light"
          }
        }
      ]
    },
    {
      "cell_type": "markdown",
      "source": [
        "non_myelinated axon negative peak at roughly -0.15 mA/cm^2, soma at -0.01\n",
        "\n",
        "---\n",
        "\n"
      ],
      "metadata": {
        "id": "QY3_53cAHTFp"
      }
    },
    {
      "cell_type": "code",
      "source": [
        "for seg in non_myelin_axon:\n",
        "  seg.hh.gnabar = 1.2\n",
        "  seg.hh.gkbar = 0.36"
      ],
      "metadata": {
        "id": "D2M0wgSDQrEp"
      },
      "execution_count": null,
      "outputs": []
    },
    {
      "cell_type": "code",
      "source": [
        "v2_soma = h.Vector().record(soma(0.5)._ref_v)\n",
        "i2_dend = h.Vector().record(dend(0.5)._ref_i_membrane)\n",
        "i2_soma = h.Vector().record(soma(0.5)._ref_i_membrane)\n",
        "i2_non_myelin_axon = h.Vector().record(non_myelin_axon(0.5)._ref_i_membrane)\n",
        "i2_myelin_axon = h.Vector().record(myelin_axon(0.5)._ref_i_membrane)\n",
        "t = h.Vector().record(h._ref_t)"
      ],
      "metadata": {
        "id": "llGKFyJFQzaW"
      },
      "execution_count": null,
      "outputs": []
    },
    {
      "cell_type": "code",
      "source": [
        "h.finitialize(-65 * mV)\n",
        "h.continuerun(10 * ms)\n",
        "\n",
        "i_soma = i_soma*3.14*pow(10.5e-4,2)\n",
        "i_non_myelin_axon = i_non_myelin_axon*3.14*pow(0.5e-4,2)\n",
        "\n",
        "plt.plot(t,i2_soma)\n",
        "plt.plot(t,i2_non_myelin_axon)\n",
        "plt.legend([\"soma\",\"non-myelinated axon\"])\n",
        "plt.xlabel(\"Time (ms)\")\n",
        "plt.ylabel(\"I_m (mA)\")\n",
        "plt.show()"
      ],
      "metadata": {
        "colab": {
          "base_uri": "https://localhost:8080/",
          "height": 279
        },
        "id": "wVjsjPEyQ5RK",
        "outputId": "ab900048-3547-47e6-9611-d1ff132bec36"
      },
      "execution_count": null,
      "outputs": [
        {
          "output_type": "display_data",
          "data": {
            "image/png": "[encoded data removed]",
            "text/plain": [
              "<Figure size 432x288 with 1 Axes>"
            ]
          },
          "metadata": {
            "needs_background": "light"
          }
        }
      ]
    },
    {
      "cell_type": "markdown",
      "source": [
        "With new ion channel density, non_myelinated axon negative peak at roughly -3 A, soma at -0.005"
      ],
      "metadata": {
        "id": "AoaxcgLjR2Tt"
      }
    },
    {
      "cell_type": "code",
      "source": [
        "h.finitialize(-65 * mV)\n",
        "h.continuerun(10 * ms)\n",
        "\n",
        "i_soma = i_soma*3.14*pow(10.5e-4,2)\n",
        "i_non_myelin_axon = i_non_myelin_axon*3.14*pow(0.5e-4,2)\n",
        "i_dend = i_dend*3.14*pow(6e-4,2)\n",
        "i_myelin_axon = i_myelin_axon*3.14*pow(0.5e-4,2)\n",
        "\n",
        "plt.plot(t,i_soma)\n",
        "plt.plot(t,i_non_myelin_axon)\n",
        "plt.plot(t,i_dend)\n",
        "plt.plot(t,i_myelin_axon)\n",
        "plt.legend([\"soma\",\"non-myelinated axon\",\"dendrite\",\"myelinated axon\"])\n",
        "plt.xlabel(\"Time (ms)\")\n",
        "plt.ylabel(\"I_m (mA)\")\n",
        "plt.show()"
      ],
      "metadata": {
        "colab": {
          "base_uri": "https://localhost:8080/",
          "height": 290
        },
        "id": "3qckWJboSHk1",
        "outputId": "4da24814-0c97-4bf7-e2b1-246f5bb129db"
      },
      "execution_count": null,
      "outputs": [
        {
          "output_type": "display_data",
          "data": {
            "image/png": "[encoded data removed]",
            "text/plain": [
              "<Figure size 432x288 with 1 Axes>"
            ]
          },
          "metadata": {
            "needs_background": "light"
          }
        }
      ]
    },
    {
      "cell_type": "markdown",
      "source": [
        "Half length"
      ],
      "metadata": {
        "id": "6JvSTxSzSiD4"
      }
    },
    {
      "cell_type": "code",
      "source": [
        "soma = h.Section(name='soma')\n",
        "myelin_axon = h.Section(name='axon')\n",
        "non_myelin_axon = h.Section(name='axon')\n",
        "dend = h.Section(name='dendrite')\n",
        "axon_hillock1 = h.Section(name='axon')\n",
        "axon_hillock2 = h.Section(name='axon')\n",
        "axon_hillock3 = h.Section(name='axon')\n",
        "axon_hillock4 = h.Section(name='axon')\n",
        "axon_hillock5 = h.Section(name='axon')\n",
        "axon_hillock6 = h.Section(name='axon')\n",
        "axon_hillock7 = h.Section(name='axon')\n",
        "axon_hillock8 = h.Section(name='axon')\n",
        "axon_hillock9 = h.Section(name='axon')\n",
        "\n",
        "soma.nseg = 100\n",
        "soma.diam = 0.5*21 * um\n",
        "soma.L = 0.5*24 * um\n",
        "\n",
        "myelin_axon.nseg = 100\n",
        "myelin_axon.diam = 0.5*1 * um\n",
        "myelin_axon.L = 0.5*300 * um\n",
        "myelin_axon.cm = 0.04\n",
        "\n",
        "non_myelin_axon.nseg = 100\n",
        "non_myelin_axon.diam = 0.5*1 * um\n",
        "non_myelin_axon.L = 0.5*16 * um\n",
        "non_myelin_axon.insert(h.hh)\n",
        "\n",
        "dend.nseg = 222\n",
        "dend.diam = 0.5*12 * um\n",
        "dend.L = 0.5*50 * um\n",
        "\n",
        "axon_hillock1.nseg = 9\n",
        "axon_hillock1.diam = 0.5*21 * um\n",
        "axon_hillock1.L = 0.5*1.78 * um\n",
        "\n",
        "axon_hillock2.nseg = 9\n",
        "axon_hillock2.diam = 0.5*18.5 * um\n",
        "axon_hillock2.L = 0.5*1.78 * um\n",
        "\n",
        "axon_hillock3.nseg = 9\n",
        "axon_hillock3.diam = 0.5*16 * um\n",
        "axon_hillock3.L = 0.5*1.78 * um\n",
        "\n",
        "axon_hillock4.nseg = 9\n",
        "axon_hillock4.diam = 0.5*13.5 * um\n",
        "axon_hillock4.L = 0.5*1.78 * um\n",
        "\n",
        "axon_hillock5.nseg = 9\n",
        "axon_hillock5.diam = 0.5*11 * um\n",
        "axon_hillock5.L = 0.5*1.78 * um\n",
        "\n",
        "axon_hillock6.nseg = 9\n",
        "axon_hillock6.diam = 0.5*8.5 * um\n",
        "axon_hillock6.L = 0.5*1.78 * um\n",
        "\n",
        "axon_hillock7.nseg = 9\n",
        "axon_hillock7.diam = 0.5*6 * um\n",
        "axon_hillock7.L = 0.5*1.78 * um\n",
        "\n",
        "axon_hillock8.nseg = 9\n",
        "axon_hillock8.diam = 0.5*3.5 * um\n",
        "axon_hillock8.L = 0.5*1.78 * um\n",
        "\n",
        "axon_hillock9.nseg = 9\n",
        "axon_hillock9.diam = 0.5*1 * um\n",
        "axon_hillock9.L = 0.5*1.78 * um\n",
        "\n",
        "soma.insert(h.hh)\n",
        "dend.insert(h.hh)\n",
        "axon_hillock1.insert(h.hh)\n",
        "axon_hillock2.insert(h.hh)\n",
        "axon_hillock3.insert(h.hh)\n",
        "axon_hillock4.insert(h.hh)\n",
        "axon_hillock5.insert(h.hh)\n",
        "axon_hillock6.insert(h.hh)\n",
        "axon_hillock7.insert(h.hh)\n",
        "axon_hillock8.insert(h.hh)\n",
        "axon_hillock9.insert(h.hh)\n",
        "\n",
        "soma.insert(h.pas)\n",
        "myelin_axon.insert(h.pas)\n",
        "non_myelin_axon.insert(h.pas)\n",
        "dend.insert(h.pas)\n",
        "axon_hillock1.insert(h.pas)\n",
        "axon_hillock2.insert(h.pas)\n",
        "axon_hillock3.insert(h.pas)\n",
        "axon_hillock4.insert(h.pas)\n",
        "axon_hillock5.insert(h.pas)\n",
        "axon_hillock6.insert(h.pas)\n",
        "axon_hillock7.insert(h.pas)\n",
        "axon_hillock8.insert(h.pas)\n",
        "axon_hillock9.insert(h.pas)\n",
        "\n",
        "soma.insert(h.extracellular)\n",
        "myelin_axon.insert(h.extracellular)\n",
        "non_myelin_axon.insert(h.extracellular)\n",
        "dend.insert(h.extracellular)\n",
        "axon_hillock1.insert(h.extracellular)\n",
        "axon_hillock2.insert(h.extracellular)\n",
        "axon_hillock3.insert(h.extracellular)\n",
        "axon_hillock4.insert(h.extracellular)\n",
        "axon_hillock5.insert(h.extracellular)\n",
        "axon_hillock6.insert(h.extracellular)\n",
        "axon_hillock7.insert(h.extracellular)\n",
        "axon_hillock8.insert(h.extracellular)\n",
        "axon_hillock9.insert(h.extracellular)\n",
        "\n",
        "axon_hillock9.connect(axon_hillock8(1))\n",
        "axon_hillock8.connect(axon_hillock7(1))\n",
        "axon_hillock7.connect(axon_hillock6(1))\n",
        "axon_hillock6.connect(axon_hillock5(1))\n",
        "axon_hillock5.connect(axon_hillock4(1))\n",
        "axon_hillock4.connect(axon_hillock3(1))\n",
        "axon_hillock3.connect(axon_hillock2(1))\n",
        "axon_hillock2.connect(axon_hillock1(1))\n",
        "axon_hillock1.connect(soma(1))\n",
        "soma.connect(dend(1))\n",
        "non_myelin_axon.connect(axon_hillock9(1))\n",
        "myelin_axon.connect(non_myelin_axon(1))\n",
        "\n",
        "for seg in non_myelin_axon:\n",
        "  seg.hh.gnabar = 1.2\n",
        "  seg.hh.gkbar = 0.36"
      ],
      "metadata": {
        "id": "UKn_75kpShR7"
      },
      "execution_count": null,
      "outputs": []
    },
    {
      "cell_type": "code",
      "source": [
        "iclamp = h.IClamp(dend(0))\n",
        "iclamp.delay = 2 * ms\n",
        "iclamp.dur = 0.1 * ms\n",
        "iclamp.amp = 5"
      ],
      "metadata": {
        "id": "7Q6HCMmdS-as"
      },
      "execution_count": null,
      "outputs": []
    },
    {
      "cell_type": "code",
      "source": [
        "v_soma = h.Vector().record(soma(0.5)._ref_v)\n",
        "i_dend = h.Vector().record(dend(0.5)._ref_i_membrane)\n",
        "i_soma = h.Vector().record(soma(0.5)._ref_i_membrane)\n",
        "i_non_myelin_axon = h.Vector().record(non_myelin_axon(0.5)._ref_i_membrane)\n",
        "i_myelin_axon = h.Vector().record(myelin_axon(0.5)._ref_i_membrane)\n",
        "t = h.Vector().record(h._ref_t)\n",
        "\n",
        "h.finitialize(-65 * mV)\n",
        "h.continuerun(10 * ms)\n",
        "\n",
        "i_soma = i_soma*3.14*pow(5.25e-4,2)\n",
        "i_non_myelin_axon = i_non_myelin_axon*3.14*pow(0.25e-4,2)\n",
        "i_dend = i_dend*3.14*pow(3e-4,2)\n",
        "i_myelin_axon = i_myelin_axon*3.14*pow(0.25e-4,2)\n",
        "\n",
        "plt.plot(t,i_soma)\n",
        "plt.plot(t,i_non_myelin_axon)\n",
        "plt.plot(t,i_dend)\n",
        "plt.plot(t,i_myelin_axon)\n",
        "plt.legend([\"soma\",\"non-myelinated axon\",\"dendrite\",\"myelinated axon\"])\n",
        "plt.xlabel(\"Time (ms)\")\n",
        "plt.ylabel(\"I_m (mA)\")\n",
        "plt.show()"
      ],
      "metadata": {
        "colab": {
          "base_uri": "https://localhost:8080/",
          "height": 290
        },
        "id": "JKDm42u4Syf2",
        "outputId": "f64e62c9-4b67-4131-b8df-82570731f6e2"
      },
      "execution_count": null,
      "outputs": [
        {
          "output_type": "display_data",
          "data": {
            "image/png": "[encoded data removed]",
            "text/plain": [
              "<Figure size 432x288 with 1 Axes>"
            ]
          },
          "metadata": {
            "needs_background": "light"
          }
        }
      ]
    },
    {
      "cell_type": "markdown",
      "source": [
        "Double Length"
      ],
      "metadata": {
        "id": "rVey9iU1SjUk"
      }
    },
    {
      "cell_type": "code",
      "source": [
        "soma = h.Section(name='soma')\n",
        "myelin_axon = h.Section(name='axon')\n",
        "non_myelin_axon = h.Section(name='axon')\n",
        "dend = h.Section(name='dendrite')\n",
        "axon_hillock1 = h.Section(name='axon')\n",
        "axon_hillock2 = h.Section(name='axon')\n",
        "axon_hillock3 = h.Section(name='axon')\n",
        "axon_hillock4 = h.Section(name='axon')\n",
        "axon_hillock5 = h.Section(name='axon')\n",
        "axon_hillock6 = h.Section(name='axon')\n",
        "axon_hillock7 = h.Section(name='axon')\n",
        "axon_hillock8 = h.Section(name='axon')\n",
        "axon_hillock9 = h.Section(name='axon')\n",
        "\n",
        "soma.nseg = 100\n",
        "soma.diam = 2*21 * um\n",
        "soma.L = 2*24 * um\n",
        "\n",
        "myelin_axon.nseg = 100\n",
        "myelin_axon.diam = 2*1 * um\n",
        "myelin_axon.L = 2*300 * um\n",
        "myelin_axon.cm = 0.04\n",
        "\n",
        "non_myelin_axon.nseg = 100\n",
        "non_myelin_axon.diam = 2*1 * um\n",
        "non_myelin_axon.L = 2*16 * um\n",
        "non_myelin_axon.insert(h.hh)\n",
        "\n",
        "dend.nseg = 222\n",
        "dend.diam = 2*12 * um\n",
        "dend.L = 2*50 * um\n",
        "\n",
        "axon_hillock1.nseg = 9\n",
        "axon_hillock1.diam = 2*21 * um\n",
        "axon_hillock1.L = 2*1.78 * um\n",
        "\n",
        "axon_hillock2.nseg = 9\n",
        "axon_hillock2.diam = 2*18.5 * um\n",
        "axon_hillock2.L = 2*1.78 * um\n",
        "\n",
        "axon_hillock3.nseg = 9\n",
        "axon_hillock3.diam = 2*16 * um\n",
        "axon_hillock3.L = 2*1.78 * um\n",
        "\n",
        "axon_hillock4.nseg = 9\n",
        "axon_hillock4.diam = 2*13.5 * um\n",
        "axon_hillock4.L = 2*1.78 * um\n",
        "\n",
        "axon_hillock5.nseg = 9\n",
        "axon_hillock5.diam = 2*11 * um\n",
        "axon_hillock5.L = 2*1.78 * um\n",
        "\n",
        "axon_hillock6.nseg = 9\n",
        "axon_hillock6.diam = 2*8.5 * um\n",
        "axon_hillock6.L = 2*1.78 * um\n",
        "\n",
        "axon_hillock7.nseg = 9\n",
        "axon_hillock7.diam = 2*6 * um\n",
        "axon_hillock7.L = 2*1.78 * um\n",
        "\n",
        "axon_hillock8.nseg = 9\n",
        "axon_hillock8.diam = 2*3.5 * um\n",
        "axon_hillock8.L = 2*1.78 * um\n",
        "\n",
        "axon_hillock9.nseg = 9\n",
        "axon_hillock9.diam = 2*1 * um\n",
        "axon_hillock9.L = 2*1.78 * um\n",
        "\n",
        "soma.insert(h.hh)\n",
        "dend.insert(h.hh)\n",
        "axon_hillock1.insert(h.hh)\n",
        "axon_hillock2.insert(h.hh)\n",
        "axon_hillock3.insert(h.hh)\n",
        "axon_hillock4.insert(h.hh)\n",
        "axon_hillock5.insert(h.hh)\n",
        "axon_hillock6.insert(h.hh)\n",
        "axon_hillock7.insert(h.hh)\n",
        "axon_hillock8.insert(h.hh)\n",
        "axon_hillock9.insert(h.hh)\n",
        "\n",
        "soma.insert(h.pas)\n",
        "myelin_axon.insert(h.pas)\n",
        "non_myelin_axon.insert(h.pas)\n",
        "dend.insert(h.pas)\n",
        "axon_hillock1.insert(h.pas)\n",
        "axon_hillock2.insert(h.pas)\n",
        "axon_hillock3.insert(h.pas)\n",
        "axon_hillock4.insert(h.pas)\n",
        "axon_hillock5.insert(h.pas)\n",
        "axon_hillock6.insert(h.pas)\n",
        "axon_hillock7.insert(h.pas)\n",
        "axon_hillock8.insert(h.pas)\n",
        "axon_hillock9.insert(h.pas)\n",
        "\n",
        "soma.insert(h.extracellular)\n",
        "myelin_axon.insert(h.extracellular)\n",
        "non_myelin_axon.insert(h.extracellular)\n",
        "dend.insert(h.extracellular)\n",
        "axon_hillock1.insert(h.extracellular)\n",
        "axon_hillock2.insert(h.extracellular)\n",
        "axon_hillock3.insert(h.extracellular)\n",
        "axon_hillock4.insert(h.extracellular)\n",
        "axon_hillock5.insert(h.extracellular)\n",
        "axon_hillock6.insert(h.extracellular)\n",
        "axon_hillock7.insert(h.extracellular)\n",
        "axon_hillock8.insert(h.extracellular)\n",
        "axon_hillock9.insert(h.extracellular)\n",
        "\n",
        "axon_hillock9.connect(axon_hillock8(1))\n",
        "axon_hillock8.connect(axon_hillock7(1))\n",
        "axon_hillock7.connect(axon_hillock6(1))\n",
        "axon_hillock6.connect(axon_hillock5(1))\n",
        "axon_hillock5.connect(axon_hillock4(1))\n",
        "axon_hillock4.connect(axon_hillock3(1))\n",
        "axon_hillock3.connect(axon_hillock2(1))\n",
        "axon_hillock2.connect(axon_hillock1(1))\n",
        "axon_hillock1.connect(soma(1))\n",
        "soma.connect(dend(1))\n",
        "non_myelin_axon.connect(axon_hillock9(1))\n",
        "myelin_axon.connect(non_myelin_axon(1))\n",
        "for seg in non_myelin_axon:\n",
        "  seg.hh.gnabar = 1.2\n",
        "  seg.hh.gkbar = 0.36\n"
      ],
      "metadata": {
        "id": "u8gkOcWmSVsl"
      },
      "execution_count": null,
      "outputs": []
    },
    {
      "cell_type": "code",
      "source": [
        "iclamp = h.IClamp(dend(0))\n",
        "iclamp.delay = 2 * ms\n",
        "iclamp.dur = 0.1 * ms\n",
        "iclamp.amp = 75"
      ],
      "metadata": {
        "id": "JOsLNmUDTRNZ"
      },
      "execution_count": null,
      "outputs": []
    },
    {
      "cell_type": "code",
      "source": [
        "v_soma = h.Vector().record(soma(0.5)._ref_v)\n",
        "i_dend = h.Vector().record(dend(0.5)._ref_i_membrane)\n",
        "i_soma = h.Vector().record(soma(0.5)._ref_i_membrane)\n",
        "i_non_myelin_axon = h.Vector().record(non_myelin_axon(0.5)._ref_i_membrane)\n",
        "i_myelin_axon = h.Vector().record(myelin_axon(0.5)._ref_i_membrane)\n",
        "t = h.Vector().record(h._ref_t)\n",
        "\n",
        "h.finitialize(-65 * mV)\n",
        "h.continuerun(10 * ms)\n",
        "\n",
        "i_soma = i_soma*3.14*pow(21e-4,2)\n",
        "i_non_myelin_axon = i_non_myelin_axon*3.14*pow(1e-4,2)\n",
        "i_dend = i_dend*3.14*pow(12e-4,2)\n",
        "i_myelin_axon = i_myelin_axon*3.14*pow(1e-4,2)\n",
        "\n",
        "plt.plot(t,i_soma)\n",
        "plt.plot(t,i_non_myelin_axon)\n",
        "plt.plot(t,i_dend)\n",
        "plt.plot(t,i_myelin_axon)\n",
        "plt.legend([\"soma\",\"non-myelinated axon\",\"dendrite\",\"myelinated axon\"])\n",
        "plt.xlabel(\"Time (ms)\")\n",
        "plt.ylabel(\"I_m (mA)\")\n",
        "plt.show()"
      ],
      "metadata": {
        "colab": {
          "base_uri": "https://localhost:8080/",
          "height": 290
        },
        "id": "NE-0Cm2STRlX",
        "outputId": "7913111b-a610-4823-cceb-3540e981db39"
      },
      "execution_count": null,
      "outputs": [
        {
          "output_type": "display_data",
          "data": {
            "image/png": "[encoded data removed]",
            "text/plain": [
              "<Figure size 432x288 with 1 Axes>"
            ]
          },
          "metadata": {
            "needs_background": "light"
          }
        }
      ]
    }
  ]
}